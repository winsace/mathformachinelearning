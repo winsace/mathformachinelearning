{
 "cells": [
  {
   "cell_type": "code",
   "execution_count": 1,
   "id": "3c386789-f78f-4bea-b67d-44e98e202230",
   "metadata": {},
   "outputs": [],
   "source": [
    "#import panda and numpy"
   ]
  },
  {
   "cell_type": "code",
   "execution_count": 2,
   "id": "dbabe6f6-1bc3-48a2-b44e-6c49d6808d15",
   "metadata": {},
   "outputs": [],
   "source": [
    "import pandas as pd\n",
    "import numpy as np"
   ]
  },
  {
   "cell_type": "code",
   "execution_count": 3,
   "id": "7b3c975a-2d8e-4f2f-aa46-9e0f6d9d0280",
   "metadata": {},
   "outputs": [],
   "source": [
    "# Load the dataset"
   ]
  },
  {
   "cell_type": "code",
   "execution_count": 4,
   "id": "81a907d7-7319-4c1e-bb9a-d1cb21af99a9",
   "metadata": {},
   "outputs": [],
   "source": [
    "df = pd.read_csv('social_media_interactions_contaminated.csv')"
   ]
  },
  {
   "cell_type": "code",
   "execution_count": 5,
   "id": "c2dac2ec-f403-48f7-9571-db063b218a8a",
   "metadata": {},
   "outputs": [
    {
     "data": {
      "text/html": [
       "<div>\n",
       "<style scoped>\n",
       "    .dataframe tbody tr th:only-of-type {\n",
       "        vertical-align: middle;\n",
       "    }\n",
       "\n",
       "    .dataframe tbody tr th {\n",
       "        vertical-align: top;\n",
       "    }\n",
       "\n",
       "    .dataframe thead th {\n",
       "        text-align: right;\n",
       "    }\n",
       "</style>\n",
       "<table border=\"1\" class=\"dataframe\">\n",
       "  <thead>\n",
       "    <tr style=\"text-align: right;\">\n",
       "      <th></th>\n",
       "      <th>CustomerID</th>\n",
       "      <th>InteractionID</th>\n",
       "      <th>InteractionDate</th>\n",
       "      <th>Platform</th>\n",
       "      <th>InteractionType</th>\n",
       "      <th>Sentiment</th>\n",
       "    </tr>\n",
       "  </thead>\n",
       "  <tbody>\n",
       "    <tr>\n",
       "      <th>0</th>\n",
       "      <td>2dcb9523-356b-40b2-a67b-1f27797de261</td>\n",
       "      <td>e5d15761-d0a7-4329-89e3-79a892c56097</td>\n",
       "      <td>2023-07-11</td>\n",
       "      <td>NaN</td>\n",
       "      <td>Comment</td>\n",
       "      <td>NaN</td>\n",
       "    </tr>\n",
       "    <tr>\n",
       "      <th>1</th>\n",
       "      <td>e12c37b3-7d4d-472f-9fd8-0df2cb3001aa</td>\n",
       "      <td>02f9f376-70ae-4fcd-9070-1db977939948</td>\n",
       "      <td>2023-07-06</td>\n",
       "      <td>Twitter</td>\n",
       "      <td>Share</td>\n",
       "      <td>NaN</td>\n",
       "    </tr>\n",
       "    <tr>\n",
       "      <th>2</th>\n",
       "      <td>08a911a3-65e6-4f5d-a6a1-ae7ddcbe28a2</td>\n",
       "      <td>a83fa04c-f109-4f24-8ce1-2078154f6a1c</td>\n",
       "      <td>2024-05-24</td>\n",
       "      <td>Instagram</td>\n",
       "      <td>Comment</td>\n",
       "      <td>Neutral</td>\n",
       "    </tr>\n",
       "    <tr>\n",
       "      <th>3</th>\n",
       "      <td>efdfdfc9-5dbb-4478-911a-101a390a0285</td>\n",
       "      <td>28a69c4b-a2e4-4c74-a130-1132d7733fdf</td>\n",
       "      <td>2023-11-01</td>\n",
       "      <td>Instagram</td>\n",
       "      <td>Like</td>\n",
       "      <td>Neutral</td>\n",
       "    </tr>\n",
       "    <tr>\n",
       "      <th>4</th>\n",
       "      <td>ca1e90f6-0e5f-492e-ab92-252ff540da18</td>\n",
       "      <td>d9d1c6f8-5e15-4738-b52b-13c2982420cc</td>\n",
       "      <td>2023-07-08</td>\n",
       "      <td>Instagram</td>\n",
       "      <td>Like</td>\n",
       "      <td>NaN</td>\n",
       "    </tr>\n",
       "    <tr>\n",
       "      <th>...</th>\n",
       "      <td>...</td>\n",
       "      <td>...</td>\n",
       "      <td>...</td>\n",
       "      <td>...</td>\n",
       "      <td>...</td>\n",
       "      <td>...</td>\n",
       "    </tr>\n",
       "    <tr>\n",
       "      <th>3195</th>\n",
       "      <td>8d8fe8bd-2009-4a15-be37-83dba3cef447</td>\n",
       "      <td>2212803c-4a00-4263-bae5-aaaff6d6bdb1</td>\n",
       "      <td>2023-08-30</td>\n",
       "      <td>Instagram</td>\n",
       "      <td>Like</td>\n",
       "      <td>Neutral</td>\n",
       "    </tr>\n",
       "    <tr>\n",
       "      <th>3196</th>\n",
       "      <td>1756838b-8368-4852-b4a5-32a23643a3dd</td>\n",
       "      <td>2f50ca57-f930-4d3e-ae08-9f3b26c7f148</td>\n",
       "      <td>2024-06-16</td>\n",
       "      <td>Facebook</td>\n",
       "      <td>Like</td>\n",
       "      <td>Neutral</td>\n",
       "    </tr>\n",
       "    <tr>\n",
       "      <th>3197</th>\n",
       "      <td>eb8bb3ce-e182-4a9c-8084-c55c738815e1</td>\n",
       "      <td>ee2c3d14-248c-48b0-aa80-4ea97e449bf8</td>\n",
       "      <td>2023-12-22</td>\n",
       "      <td>Instagram</td>\n",
       "      <td>Comment</td>\n",
       "      <td>Negative</td>\n",
       "    </tr>\n",
       "    <tr>\n",
       "      <th>3198</th>\n",
       "      <td>a5d08a95-9dba-4e3d-b997-1cfdde6a89ef</td>\n",
       "      <td>e77a8713-fdc7-4f71-85f8-9cd88cca0c42</td>\n",
       "      <td>2023-11-01</td>\n",
       "      <td>Twitter</td>\n",
       "      <td>Share</td>\n",
       "      <td>Positive</td>\n",
       "    </tr>\n",
       "    <tr>\n",
       "      <th>3199</th>\n",
       "      <td>f8146100-569d-4cda-9d64-88c6ad98de5f</td>\n",
       "      <td>454a0b90-d1bb-437d-ad50-ef01821fbf0a</td>\n",
       "      <td>2024-06-20</td>\n",
       "      <td>Instagram</td>\n",
       "      <td>Like</td>\n",
       "      <td>Neutral</td>\n",
       "    </tr>\n",
       "  </tbody>\n",
       "</table>\n",
       "<p>3200 rows × 6 columns</p>\n",
       "</div>"
      ],
      "text/plain": [
       "                                CustomerID  \\\n",
       "0     2dcb9523-356b-40b2-a67b-1f27797de261   \n",
       "1     e12c37b3-7d4d-472f-9fd8-0df2cb3001aa   \n",
       "2     08a911a3-65e6-4f5d-a6a1-ae7ddcbe28a2   \n",
       "3     efdfdfc9-5dbb-4478-911a-101a390a0285   \n",
       "4     ca1e90f6-0e5f-492e-ab92-252ff540da18   \n",
       "...                                    ...   \n",
       "3195  8d8fe8bd-2009-4a15-be37-83dba3cef447   \n",
       "3196  1756838b-8368-4852-b4a5-32a23643a3dd   \n",
       "3197  eb8bb3ce-e182-4a9c-8084-c55c738815e1   \n",
       "3198  a5d08a95-9dba-4e3d-b997-1cfdde6a89ef   \n",
       "3199  f8146100-569d-4cda-9d64-88c6ad98de5f   \n",
       "\n",
       "                             InteractionID InteractionDate   Platform  \\\n",
       "0     e5d15761-d0a7-4329-89e3-79a892c56097      2023-07-11        NaN   \n",
       "1     02f9f376-70ae-4fcd-9070-1db977939948      2023-07-06    Twitter   \n",
       "2     a83fa04c-f109-4f24-8ce1-2078154f6a1c      2024-05-24  Instagram   \n",
       "3     28a69c4b-a2e4-4c74-a130-1132d7733fdf      2023-11-01  Instagram   \n",
       "4     d9d1c6f8-5e15-4738-b52b-13c2982420cc      2023-07-08  Instagram   \n",
       "...                                    ...             ...        ...   \n",
       "3195  2212803c-4a00-4263-bae5-aaaff6d6bdb1      2023-08-30  Instagram   \n",
       "3196  2f50ca57-f930-4d3e-ae08-9f3b26c7f148      2024-06-16   Facebook   \n",
       "3197  ee2c3d14-248c-48b0-aa80-4ea97e449bf8      2023-12-22  Instagram   \n",
       "3198  e77a8713-fdc7-4f71-85f8-9cd88cca0c42      2023-11-01    Twitter   \n",
       "3199  454a0b90-d1bb-437d-ad50-ef01821fbf0a      2024-06-20  Instagram   \n",
       "\n",
       "     InteractionType Sentiment  \n",
       "0            Comment       NaN  \n",
       "1              Share       NaN  \n",
       "2            Comment   Neutral  \n",
       "3               Like   Neutral  \n",
       "4               Like       NaN  \n",
       "...              ...       ...  \n",
       "3195            Like   Neutral  \n",
       "3196            Like   Neutral  \n",
       "3197         Comment  Negative  \n",
       "3198           Share  Positive  \n",
       "3199            Like   Neutral  \n",
       "\n",
       "[3200 rows x 6 columns]"
      ]
     },
     "execution_count": 5,
     "metadata": {},
     "output_type": "execute_result"
    }
   ],
   "source": [
    "df"
   ]
  },
  {
   "cell_type": "code",
   "execution_count": 6,
   "id": "d914f5f0-246c-4774-bb73-5840ab3d0b96",
   "metadata": {},
   "outputs": [],
   "source": [
    "# Check for initial duplicate rows"
   ]
  },
  {
   "cell_type": "code",
   "execution_count": 7,
   "id": "24dc7c91-9458-4c91-885d-ed7ce7e2bfcb",
   "metadata": {},
   "outputs": [
    {
     "name": "stdout",
     "output_type": "stream",
     "text": [
      "Initial duplicate count: 180\n"
     ]
    }
   ],
   "source": [
    "initial_duplicates = df.duplicated().sum()\n",
    "print(f'Initial duplicate count: {initial_duplicates}')"
   ]
  },
  {
   "cell_type": "code",
   "execution_count": 8,
   "id": "c5f7d5a3-f267-4013-918a-d6f3dd79a6db",
   "metadata": {},
   "outputs": [],
   "source": [
    "# Remove duplicate rows"
   ]
  },
  {
   "cell_type": "code",
   "execution_count": 9,
   "id": "c7d934ec-e135-4756-867b-12f52ea74efd",
   "metadata": {},
   "outputs": [],
   "source": [
    "df_cleaned = df.drop_duplicates()"
   ]
  },
  {
   "cell_type": "code",
   "execution_count": 10,
   "id": "ac88539b-c064-4344-8ee6-445410b257f4",
   "metadata": {},
   "outputs": [],
   "source": [
    "# Verify duplicate count after dropping"
   ]
  },
  {
   "cell_type": "code",
   "execution_count": 11,
   "id": "eccb1914-e53d-4c7c-871b-9d7fd51516d7",
   "metadata": {},
   "outputs": [
    {
     "name": "stdout",
     "output_type": "stream",
     "text": [
      "Duplicate count after dropping: 0\n"
     ]
    }
   ],
   "source": [
    "duplicates_after = df_cleaned.duplicated().sum()\n",
    "print(f'Duplicate count after dropping: {duplicates_after}')"
   ]
  },
  {
   "cell_type": "code",
   "execution_count": 12,
   "id": "79e847c2-a7e8-44b2-9a56-2477c487acca",
   "metadata": {},
   "outputs": [],
   "source": [
    "# Count null values in each column"
   ]
  },
  {
   "cell_type": "code",
   "execution_count": 13,
   "id": "db839a07-c778-46fe-8e58-d75a30d0cdd7",
   "metadata": {},
   "outputs": [
    {
     "name": "stdout",
     "output_type": "stream",
     "text": [
      "Null values in each column:\n",
      "CustomerID           0\n",
      "InteractionID        0\n",
      "InteractionDate      0\n",
      "Platform           291\n",
      "InteractionType      0\n",
      "Sentiment          309\n",
      "dtype: int64\n"
     ]
    }
   ],
   "source": [
    "null_counts = df_cleaned.isnull().sum()\n",
    "print('Null values in each column:')\n",
    "print(null_counts)"
   ]
  },
  {
   "cell_type": "code",
   "execution_count": 14,
   "id": "87f7f5f3-10e5-4121-b886-be20f3045825",
   "metadata": {},
   "outputs": [],
   "source": [
    "# Drop all rows with any null values"
   ]
  },
  {
   "cell_type": "code",
   "execution_count": 15,
   "id": "b2284e0f-85ce-4f86-889e-88072e98dc25",
   "metadata": {},
   "outputs": [],
   "source": [
    "df_cleaned = df_cleaned.dropna()"
   ]
  },
  {
   "cell_type": "code",
   "execution_count": 16,
   "id": "ee2287da-7722-44a9-aa05-87a3df08e5c3",
   "metadata": {},
   "outputs": [],
   "source": [
    "# Verify that there are no more null values"
   ]
  },
  {
   "cell_type": "code",
   "execution_count": 17,
   "id": "c6a62ce5-b7fe-4090-bfbf-79a02b6ff798",
   "metadata": {},
   "outputs": [
    {
     "name": "stdout",
     "output_type": "stream",
     "text": [
      "Null values in each column after dropping:\n",
      "CustomerID         0\n",
      "InteractionID      0\n",
      "InteractionDate    0\n",
      "Platform           0\n",
      "InteractionType    0\n",
      "Sentiment          0\n",
      "dtype: int64\n"
     ]
    }
   ],
   "source": [
    "null_counts_after = df_cleaned.isnull().sum()\n",
    "print('Null values in each column after dropping:')\n",
    "print(null_counts_after)"
   ]
  },
  {
   "cell_type": "code",
   "execution_count": 18,
   "id": "73334955-8996-465e-9847-df03bb6ab05b",
   "metadata": {},
   "outputs": [],
   "source": [
    "# Check data types"
   ]
  },
  {
   "cell_type": "code",
   "execution_count": 19,
   "id": "3d3ad7cb-6e12-4ae9-8b83-faf283fd0995",
   "metadata": {},
   "outputs": [
    {
     "name": "stdout",
     "output_type": "stream",
     "text": [
      "Data types before conversion:\n",
      "CustomerID         object\n",
      "InteractionID      object\n",
      "InteractionDate    object\n",
      "Platform           object\n",
      "InteractionType    object\n",
      "Sentiment          object\n",
      "dtype: object\n"
     ]
    }
   ],
   "source": [
    "print('Data types before conversion:')\n",
    "print(df_cleaned.dtypes)"
   ]
  },
  {
   "cell_type": "code",
   "execution_count": 20,
   "id": "a5f88f6f-fcd8-4aeb-9a7d-1d7c80785f9a",
   "metadata": {},
   "outputs": [],
   "source": [
    "# Convert 'InteractionDate' to datetime"
   ]
  },
  {
   "cell_type": "code",
   "execution_count": 21,
   "id": "88627aa4-8bf8-43a6-8881-3b09bde31275",
   "metadata": {},
   "outputs": [],
   "source": [
    "df_cleaned['InteractionDate'] = pd.to_datetime(df_cleaned['InteractionDate'], format='%d/%m/%Y', errors='coerce')"
   ]
  },
  {
   "cell_type": "code",
   "execution_count": 22,
   "id": "8d3c4bb8-99a8-468f-bfc3-88905733fa78",
   "metadata": {},
   "outputs": [],
   "source": [
    "# verify data types"
   ]
  },
  {
   "cell_type": "code",
   "execution_count": 23,
   "id": "1f9e102c-53a8-481e-bd81-b6e7f4b559b6",
   "metadata": {},
   "outputs": [
    {
     "name": "stdout",
     "output_type": "stream",
     "text": [
      "Data types before conversion:\n",
      "CustomerID                 object\n",
      "InteractionID              object\n",
      "InteractionDate    datetime64[ns]\n",
      "Platform                   object\n",
      "InteractionType            object\n",
      "Sentiment                  object\n",
      "dtype: object\n"
     ]
    }
   ],
   "source": [
    "print('Data types before conversion:')\n",
    "print(df_cleaned.dtypes)"
   ]
  },
  {
   "cell_type": "code",
   "execution_count": 24,
   "id": "d0b28e00-2cba-4e1d-8f86-026c408af3b2",
   "metadata": {},
   "outputs": [],
   "source": [
    "# Save the cleaned DataFrame to a new CSV file"
   ]
  },
  {
   "cell_type": "code",
   "execution_count": 25,
   "id": "636f1176-c4f6-46f9-a2ce-48ee1486afeb",
   "metadata": {},
   "outputs": [],
   "source": [
    "df_cleaned.to_csv('social_media_interactions_cleaned.csv', index=False)"
   ]
  },
  {
   "cell_type": "code",
   "execution_count": null,
   "id": "eabaa111-f3b0-40af-a207-483b2236e854",
   "metadata": {},
   "outputs": [],
   "source": []
  }
 ],
 "metadata": {
  "kernelspec": {
   "display_name": "Python 3 (ipykernel)",
   "language": "python",
   "name": "python3"
  },
  "language_info": {
   "codemirror_mode": {
    "name": "ipython",
    "version": 3
   },
   "file_extension": ".py",
   "mimetype": "text/x-python",
   "name": "python",
   "nbconvert_exporter": "python",
   "pygments_lexer": "ipython3",
   "version": "3.12.2"
  }
 },
 "nbformat": 4,
 "nbformat_minor": 5
}
