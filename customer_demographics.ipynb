{
 "cells": [
  {
   "cell_type": "code",
   "execution_count": 1,
   "id": "ac553df4-dccf-4388-9498-e2da75638800",
   "metadata": {},
   "outputs": [],
   "source": [
    "# Import panda and numpy"
   ]
  },
  {
   "cell_type": "code",
   "execution_count": 2,
   "id": "33711a5b-50b3-40e3-8430-e11b2fc8a90b",
   "metadata": {},
   "outputs": [],
   "source": [
    "import pandas as pd\n",
    "import numpy as np"
   ]
  },
  {
   "cell_type": "code",
   "execution_count": 3,
   "id": "aad71488-7146-4322-abf3-4b765d7a4d5a",
   "metadata": {},
   "outputs": [],
   "source": [
    "# Import dataset"
   ]
  },
  {
   "cell_type": "code",
   "execution_count": 4,
   "id": "665af1d9-8d9d-465a-bfbd-fc48566d3bb3",
   "metadata": {},
   "outputs": [],
   "source": [
    "df = pd.read_csv('customer_demographics_contaminated.csv')"
   ]
  },
  {
   "cell_type": "code",
   "execution_count": 5,
   "id": "8a148d98-a42d-4f85-b5eb-c57538a2f87d",
   "metadata": {},
   "outputs": [],
   "source": [
    "# Count initial duplicates"
   ]
  },
  {
   "cell_type": "code",
   "execution_count": 6,
   "id": "86f74f66-0bfa-435d-aa90-377b59fa397c",
   "metadata": {},
   "outputs": [
    {
     "name": "stdout",
     "output_type": "stream",
     "text": [
      "Initial duplicate count: 177\n"
     ]
    }
   ],
   "source": [
    "initial_duplicate_count = df.duplicated().sum()\n",
    "print(f'Initial duplicate count: {initial_duplicate_count}')"
   ]
  },
  {
   "cell_type": "code",
   "execution_count": 7,
   "id": "9b11bc48-4053-4f90-bf2c-8ccb14cb3861",
   "metadata": {},
   "outputs": [],
   "source": [
    "# Drop duplicate rows"
   ]
  },
  {
   "cell_type": "code",
   "execution_count": 8,
   "id": "bc29d268-d37b-4e49-a761-5f8b16d2fae1",
   "metadata": {},
   "outputs": [],
   "source": [
    "df_cleaned = df.drop_duplicates()"
   ]
  },
  {
   "cell_type": "code",
   "execution_count": 9,
   "id": "b4280e55-ff6a-4eeb-919b-1a8285af68a3",
   "metadata": {},
   "outputs": [],
   "source": [
    "# Verify duplicate count after dropping"
   ]
  },
  {
   "cell_type": "code",
   "execution_count": 10,
   "id": "7a06146e-1d96-4dc3-8c9f-ee5e0ae7b189",
   "metadata": {},
   "outputs": [
    {
     "name": "stdout",
     "output_type": "stream",
     "text": [
      "Duplicate count after dropping: 0\n"
     ]
    }
   ],
   "source": [
    "duplicate_count_after_dropping = df_cleaned.duplicated().sum()\n",
    "print(f'Duplicate count after dropping: {duplicate_count_after_dropping}')"
   ]
  },
  {
   "cell_type": "code",
   "execution_count": 11,
   "id": "a238ab46-b762-41d1-b72d-b5e3794a0347",
   "metadata": {},
   "outputs": [],
   "source": [
    "# Count null values in each column before cleaning"
   ]
  },
  {
   "cell_type": "code",
   "execution_count": 12,
   "id": "f97abe99-b34a-42f8-8c3f-dba0857e267f",
   "metadata": {},
   "outputs": [
    {
     "name": "stdout",
     "output_type": "stream",
     "text": [
      "Null values before cleaning:\n",
      "CustomerID       0\n",
      "Age            276\n",
      "Gender           0\n",
      "Location         0\n",
      "IncomeLevel    285\n",
      "SignupDate       0\n",
      "dtype: int64\n"
     ]
    }
   ],
   "source": [
    "null_counts_before = df_cleaned.isnull().sum()\n",
    "print('Null values before cleaning:')\n",
    "print(null_counts_before)"
   ]
  },
  {
   "cell_type": "code",
   "execution_count": 13,
   "id": "0ffc156f-8c52-4f55-af10-77520aa2150f",
   "metadata": {},
   "outputs": [],
   "source": [
    "# Drop rows where 'Age' is blank, NaN, or 'Unknown'"
   ]
  },
  {
   "cell_type": "code",
   "execution_count": 14,
   "id": "4c4bba3b-bfa1-48f7-86b6-76b5eaa178e1",
   "metadata": {},
   "outputs": [],
   "source": [
    "df_cleaned = df_cleaned.loc[~df_cleaned['Age'].isin(['Unknown', '']) & df_cleaned['Age'].notnull()]"
   ]
  },
  {
   "cell_type": "code",
   "execution_count": 15,
   "id": "338ff1d9-fa31-428a-b24b-ced80b2caf2f",
   "metadata": {},
   "outputs": [],
   "source": [
    "# Count null values in 'Age' column after cleaning"
   ]
  },
  {
   "cell_type": "code",
   "execution_count": 16,
   "id": "07f43f6d-b5b4-4cd4-86eb-c6ab2e5daca5",
   "metadata": {},
   "outputs": [
    {
     "name": "stdout",
     "output_type": "stream",
     "text": [
      "Null values in Age after cleaning: 0\n"
     ]
    }
   ],
   "source": [
    "null_age_count = df_cleaned['Age'].isnull().sum()\n",
    "print(f'Null values in Age after cleaning: {null_age_count}')"
   ]
  },
  {
   "cell_type": "code",
   "execution_count": 17,
   "id": "52349494-a1b2-43e5-ae38-efe20a65cea3",
   "metadata": {},
   "outputs": [],
   "source": [
    "# Drop rows where 'IncomeLevel' is null"
   ]
  },
  {
   "cell_type": "code",
   "execution_count": 18,
   "id": "b61cb152-36e8-493d-8a7f-93045531a810",
   "metadata": {},
   "outputs": [],
   "source": [
    "df_cleaned = df_cleaned.dropna(subset=['IncomeLevel'])"
   ]
  },
  {
   "cell_type": "code",
   "execution_count": 19,
   "id": "1b6c1fad-aa2f-4857-b248-aa28f6863104",
   "metadata": {},
   "outputs": [],
   "source": [
    "# Count null values in all columns after cleaning"
   ]
  },
  {
   "cell_type": "code",
   "execution_count": 20,
   "id": "eab9cbd5-990e-4b48-b1d8-48e5d39068c3",
   "metadata": {},
   "outputs": [
    {
     "name": "stdout",
     "output_type": "stream",
     "text": [
      "Null values after cleaning:\n",
      "CustomerID     0\n",
      "Age            0\n",
      "Gender         0\n",
      "Location       0\n",
      "IncomeLevel    0\n",
      "SignupDate     0\n",
      "dtype: int64\n"
     ]
    }
   ],
   "source": [
    "null_counts_after = df_cleaned.isnull().sum()\n",
    "print('Null values after cleaning:')\n",
    "print(null_counts_after)"
   ]
  },
  {
   "cell_type": "code",
   "execution_count": 21,
   "id": "f8a16f4e-b40a-43ce-96e9-5bfde6d69082",
   "metadata": {},
   "outputs": [],
   "source": [
    "# Check current data types of the DataFrame"
   ]
  },
  {
   "cell_type": "code",
   "execution_count": 22,
   "id": "4ebf884e-3232-452d-ae8e-861f80869134",
   "metadata": {},
   "outputs": [
    {
     "name": "stdout",
     "output_type": "stream",
     "text": [
      "Current data types:\n",
      "CustomerID     object\n",
      "Age            object\n",
      "Gender         object\n",
      "Location       object\n",
      "IncomeLevel    object\n",
      "SignupDate     object\n",
      "dtype: object\n"
     ]
    }
   ],
   "source": [
    "print('Current data types:')\n",
    "print(df_cleaned.dtypes)"
   ]
  },
  {
   "cell_type": "code",
   "execution_count": 23,
   "id": "3e88a9bd-44e8-45b9-8528-acf8982eb08d",
   "metadata": {},
   "outputs": [],
   "source": [
    "# Convert data types"
   ]
  },
  {
   "cell_type": "code",
   "execution_count": 24,
   "id": "3412a27f-7d98-4e7d-8531-12c799a40170",
   "metadata": {},
   "outputs": [],
   "source": [
    "df_cleaned['CustomerID'] = df_cleaned['CustomerID'].astype(str)\n",
    "df_cleaned['Age'] = pd.to_numeric(df_cleaned['Age'], errors='coerce')\n",
    "df_cleaned['Gender'] = df_cleaned['Gender'].astype('category')\n",
    "df_cleaned['Location'] = df_cleaned['Location'].astype('category')\n",
    "df_cleaned['IncomeLevel'] = df_cleaned['IncomeLevel'].astype('category')\n",
    "df_cleaned['SignupDate'] = pd.to_datetime(df_cleaned['SignupDate'], format='%d/%m/%Y', errors='coerce')"
   ]
  },
  {
   "cell_type": "code",
   "execution_count": 25,
   "id": "7f4931fd-843c-41fd-a013-44e7d431d40e",
   "metadata": {},
   "outputs": [
    {
     "name": "stdout",
     "output_type": "stream",
     "text": [
      "Data types after conversion:\n",
      "CustomerID             object\n",
      "Age                   float64\n",
      "Gender               category\n",
      "Location             category\n",
      "IncomeLevel          category\n",
      "SignupDate     datetime64[ns]\n",
      "dtype: object\n"
     ]
    }
   ],
   "source": [
    "# Verify data types after conversion\n",
    "print('Data types after conversion:')\n",
    "print(df_cleaned.dtypes)"
   ]
  },
  {
   "cell_type": "code",
   "execution_count": 26,
   "id": "6f1fd3f9-41e7-435f-b13b-22daee66dce5",
   "metadata": {},
   "outputs": [],
   "source": [
    "# Save the cleaned DataFrame to a new CSV file"
   ]
  },
  {
   "cell_type": "code",
   "execution_count": 27,
   "id": "9d083887-55e7-47ca-a69d-adfbcaf35c39",
   "metadata": {},
   "outputs": [],
   "source": [
    "df_cleaned.to_csv('customer_demographics_contaminated_cleaned.csv', index=False)"
   ]
  },
  {
   "cell_type": "code",
   "execution_count": null,
   "id": "0f474ff0-bf23-40a5-a60a-f9cc791c6bcc",
   "metadata": {},
   "outputs": [],
   "source": []
  }
 ],
 "metadata": {
  "kernelspec": {
   "display_name": "Python 3 (ipykernel)",
   "language": "python",
   "name": "python3"
  },
  "language_info": {
   "codemirror_mode": {
    "name": "ipython",
    "version": 3
   },
   "file_extension": ".py",
   "mimetype": "text/x-python",
   "name": "python",
   "nbconvert_exporter": "python",
   "pygments_lexer": "ipython3",
   "version": "3.12.2"
  }
 },
 "nbformat": 4,
 "nbformat_minor": 5
}
