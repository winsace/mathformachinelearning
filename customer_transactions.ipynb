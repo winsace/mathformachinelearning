{
 "cells": [
  {
   "cell_type": "code",
   "execution_count": 1,
   "id": "59e9bfaf-1386-4201-a305-afd2bdfab186",
   "metadata": {},
   "outputs": [],
   "source": [
    "#import pandas and numpy"
   ]
  },
  {
   "cell_type": "code",
   "execution_count": 2,
   "id": "1553019d-ce7d-4437-a67e-8ecea2595c68",
   "metadata": {},
   "outputs": [],
   "source": [
    "import pandas as pd\n",
    "import numpy as np"
   ]
  },
  {
   "cell_type": "code",
   "execution_count": 3,
   "id": "1fdb1103-dbc1-439c-a476-3c0ca281389b",
   "metadata": {},
   "outputs": [],
   "source": [
    "#load dataset"
   ]
  },
  {
   "cell_type": "code",
   "execution_count": 4,
   "id": "6e9955ac-445f-4831-aca6-c230693831ef",
   "metadata": {},
   "outputs": [],
   "source": [
    "df_transactions = pd.read_csv('customer_transactions_contaminated.csv')"
   ]
  },
  {
   "cell_type": "code",
   "execution_count": 5,
   "id": "64566f4e-2c16-407b-b704-621c891cc23d",
   "metadata": {},
   "outputs": [],
   "source": [
    "# Check for initial duplicate rows"
   ]
  },
  {
   "cell_type": "code",
   "execution_count": 6,
   "id": "f0dbe888-dda6-476b-8988-b6cfeea44d2b",
   "metadata": {},
   "outputs": [
    {
     "name": "stdout",
     "output_type": "stream",
     "text": [
      "Initial duplicate count: 185\n"
     ]
    }
   ],
   "source": [
    "initial_duplicates = df_transactions.duplicated().sum()\n",
    "print(f'Initial duplicate count: {initial_duplicates}')"
   ]
  },
  {
   "cell_type": "code",
   "execution_count": 7,
   "id": "cb566499-4535-44ef-ae35-df030a5c42ac",
   "metadata": {},
   "outputs": [],
   "source": [
    "# Remove duplicate rows"
   ]
  },
  {
   "cell_type": "code",
   "execution_count": 8,
   "id": "2054a27c-8077-469a-8198-aab14335a345",
   "metadata": {},
   "outputs": [],
   "source": [
    "df_cleaned_transactions = df_transactions.drop_duplicates()"
   ]
  },
  {
   "cell_type": "code",
   "execution_count": 9,
   "id": "87774d91-5c04-433c-8d6a-47a645ee5f7a",
   "metadata": {},
   "outputs": [],
   "source": [
    "# Verify duplicate count after dropping"
   ]
  },
  {
   "cell_type": "code",
   "execution_count": 10,
   "id": "0b0c67ab-8b4b-4ae3-b5f8-e216cb200fe3",
   "metadata": {},
   "outputs": [
    {
     "name": "stdout",
     "output_type": "stream",
     "text": [
      "Duplicate count after dropping: 0\n"
     ]
    }
   ],
   "source": [
    "duplicates_after = df_cleaned_transactions.duplicated().sum()\n",
    "print(f'Duplicate count after dropping: {duplicates_after}')"
   ]
  },
  {
   "cell_type": "code",
   "execution_count": 11,
   "id": "983367ea-0052-4719-8161-dae219f0d462",
   "metadata": {},
   "outputs": [],
   "source": [
    "# Count null values in each column"
   ]
  },
  {
   "cell_type": "code",
   "execution_count": 12,
   "id": "8c7fa841-462a-4265-9b32-92fc2c632303",
   "metadata": {},
   "outputs": [
    {
     "name": "stdout",
     "output_type": "stream",
     "text": [
      "Null values in each column:\n",
      "CustomerID           0\n",
      "TransactionID        0\n",
      "TransactionDate      0\n",
      "Amount             283\n",
      "ProductCategory    282\n",
      "PaymentMethod        0\n",
      "dtype: int64\n"
     ]
    }
   ],
   "source": [
    "null_counts = df_cleaned_transactions.isnull().sum()\n",
    "print('Null values in each column:')\n",
    "print(null_counts)"
   ]
  },
  {
   "cell_type": "code",
   "execution_count": 13,
   "id": "730981f5-7ebf-4ad3-a9dd-4a392021bfb9",
   "metadata": {},
   "outputs": [],
   "source": [
    "# Drop all rows with any null values"
   ]
  },
  {
   "cell_type": "code",
   "execution_count": 14,
   "id": "b803c8a7-a98c-4949-bbb7-0adf80cffd13",
   "metadata": {},
   "outputs": [],
   "source": [
    "df_cleaned_transactions = df_cleaned_transactions.dropna()"
   ]
  },
  {
   "cell_type": "code",
   "execution_count": 15,
   "id": "92a6673c-3b47-4bfe-893f-6d30d6419380",
   "metadata": {},
   "outputs": [],
   "source": [
    "# Verify that there are no more null values"
   ]
  },
  {
   "cell_type": "code",
   "execution_count": 16,
   "id": "06bb45d6-686a-496f-9ad9-4ca497c09849",
   "metadata": {},
   "outputs": [
    {
     "name": "stdout",
     "output_type": "stream",
     "text": [
      "Null values in each column after dropping:\n",
      "CustomerID         0\n",
      "TransactionID      0\n",
      "TransactionDate    0\n",
      "Amount             0\n",
      "ProductCategory    0\n",
      "PaymentMethod      0\n",
      "dtype: int64\n"
     ]
    }
   ],
   "source": [
    "null_counts_after = df_cleaned_transactions.isnull().sum()\n",
    "print('Null values in each column after dropping:')\n",
    "print(null_counts_after)"
   ]
  },
  {
   "cell_type": "code",
   "execution_count": 17,
   "id": "78aa667a-55dc-4140-ad18-677826eb317c",
   "metadata": {},
   "outputs": [],
   "source": [
    "# Check data types"
   ]
  },
  {
   "cell_type": "code",
   "execution_count": 18,
   "id": "2acfb6b2-eb62-4804-86c7-55be02ab6d55",
   "metadata": {},
   "outputs": [
    {
     "name": "stdout",
     "output_type": "stream",
     "text": [
      "Data types before conversion:\n",
      "CustomerID         object\n",
      "TransactionID      object\n",
      "TransactionDate    object\n",
      "Amount             object\n",
      "ProductCategory    object\n",
      "PaymentMethod      object\n",
      "dtype: object\n"
     ]
    }
   ],
   "source": [
    "print('Data types before conversion:')\n",
    "print(df_cleaned_transactions.dtypes)"
   ]
  },
  {
   "cell_type": "code",
   "execution_count": 19,
   "id": "ab5290c9-75f7-4277-8a54-e88c0d253cb9",
   "metadata": {},
   "outputs": [],
   "source": [
    "# Convert 'TransactionDate' to datetime"
   ]
  },
  {
   "cell_type": "code",
   "execution_count": 20,
   "id": "590a110b-4285-41d7-a0ec-91682554c8b8",
   "metadata": {},
   "outputs": [],
   "source": [
    "df_cleaned_transactions['TransactionDate'] = pd.to_datetime(df_cleaned_transactions['TransactionDate'], format='%d/%m/%Y', errors='coerce')"
   ]
  },
  {
   "cell_type": "code",
   "execution_count": 21,
   "id": "5e548bf2-e7ed-48b5-984e-490ddcb9c22c",
   "metadata": {},
   "outputs": [],
   "source": [
    "# Convert 'PaymentMethod' and 'ProductCategory' to category"
   ]
  },
  {
   "cell_type": "code",
   "execution_count": 22,
   "id": "d6ac1b9f-e679-4afe-b5bc-9654b28fc66d",
   "metadata": {},
   "outputs": [],
   "source": [
    "df_cleaned_transactions['PaymentMethod'] = df_cleaned_transactions['PaymentMethod'].astype('category')\n",
    "df_cleaned_transactions['ProductCategory'] = df_cleaned_transactions['ProductCategory'].astype('category')"
   ]
  },
  {
   "cell_type": "code",
   "execution_count": 25,
   "id": "8cce1ec1-d5c1-4555-8eea-4338f80e429b",
   "metadata": {},
   "outputs": [],
   "source": [
    "# Replace 'Free' with 0 in the Amount column"
   ]
  },
  {
   "cell_type": "code",
   "execution_count": 26,
   "id": "b307b18b-235d-4aa1-a8d0-cfb908798363",
   "metadata": {},
   "outputs": [],
   "source": [
    "df_cleaned_transactions['Amount'] = df_cleaned_transactions['Amount'].replace('Free', 0)"
   ]
  },
  {
   "cell_type": "code",
   "execution_count": 27,
   "id": "7f176e81-66d4-4c93-9e1e-e6e7983b96d5",
   "metadata": {},
   "outputs": [],
   "source": [
    "# Convert Amount to float"
   ]
  },
  {
   "cell_type": "code",
   "execution_count": 28,
   "id": "d3315aac-4296-4ef3-9439-8e9989dceec2",
   "metadata": {},
   "outputs": [],
   "source": [
    "df_cleaned_transactions['Amount'] = df_cleaned_transactions['Amount'].astype(float)"
   ]
  },
  {
   "cell_type": "code",
   "execution_count": 29,
   "id": "0924fc68-ee6f-4547-a0f0-cb488c02eaa1",
   "metadata": {},
   "outputs": [],
   "source": [
    "# Verify data types after conversion"
   ]
  },
  {
   "cell_type": "code",
   "execution_count": 30,
   "id": "12f11c8a-9792-42ad-8a30-135b72e8fdfd",
   "metadata": {},
   "outputs": [
    {
     "name": "stdout",
     "output_type": "stream",
     "text": [
      "Data types after conversion:\n",
      "CustomerID                 object\n",
      "TransactionID              object\n",
      "TransactionDate    datetime64[ns]\n",
      "Amount                    float64\n",
      "ProductCategory          category\n",
      "PaymentMethod            category\n",
      "dtype: object\n"
     ]
    }
   ],
   "source": [
    "print('Data types after conversion:')\n",
    "print(df_cleaned_transactions.dtypes)"
   ]
  },
  {
   "cell_type": "code",
   "execution_count": 31,
   "id": "5dfa2a59-feb4-44fa-b435-a735d2ee01f5",
   "metadata": {},
   "outputs": [],
   "source": [
    "#Save the cleaned DataFrame"
   ]
  },
  {
   "cell_type": "code",
   "execution_count": 32,
   "id": "93b54052-ee40-4c92-b095-06ea188c1e8f",
   "metadata": {},
   "outputs": [],
   "source": [
    "df_cleaned_transactions.to_csv('customer_transactions_cleaned.csv', index=False)"
   ]
  },
  {
   "cell_type": "code",
   "execution_count": null,
   "id": "d5780706-d525-4040-9b74-003540dcfac2",
   "metadata": {},
   "outputs": [],
   "source": []
  }
 ],
 "metadata": {
  "kernelspec": {
   "display_name": "Python 3 (ipykernel)",
   "language": "python",
   "name": "python3"
  },
  "language_info": {
   "codemirror_mode": {
    "name": "ipython",
    "version": 3
   },
   "file_extension": ".py",
   "mimetype": "text/x-python",
   "name": "python",
   "nbconvert_exporter": "python",
   "pygments_lexer": "ipython3",
   "version": "3.12.2"
  }
 },
 "nbformat": 4,
 "nbformat_minor": 5
}
